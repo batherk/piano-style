{
 "cells": [
  {
   "cell_type": "code",
   "execution_count": 5,
   "metadata": {
    "collapsed": true
   },
   "outputs": [
    {
     "data": {
      "text/plain": "    style_name       qpm        l0        l1        l2        l3        l4  \\\n0        Anger -0.088185  1.571903  0.020121 -0.863442 -1.202130  0.060519   \n1        Relax -0.727945 -1.521764 -0.817391 -0.166701  0.141524 -0.211009   \n2          Sad -1.365985 -0.624509  1.721794 -1.273381 -1.101166  0.511347   \n3        Enjoy  0.156804  0.840903 -0.032408  0.817627 -0.021378  1.205140   \n4           OR -0.748865 -1.226177 -0.185482 -0.415452  1.047254 -0.967145   \n..         ...       ...       ...       ...       ...       ...       ...   \n495      Anger -0.088185  0.558506  0.207828  0.993818 -0.729255  0.530205   \n496      Relax -0.727945 -0.335040  0.330002 -1.357901  0.502703 -2.155038   \n497        Sad -1.365985  0.163575  0.646166 -0.627144 -1.226509  1.342107   \n498      Enjoy  0.156804 -1.233486  0.624565 -0.372455  1.179735  1.105252   \n499         OR -0.748865  0.743470 -0.482871 -1.096813  1.476299  1.326706   \n\n           l5        l6        l7        l8        l9       l10       l11  \\\n0   -0.347255 -0.173362  1.063584 -0.215927  2.054391  0.023906  1.765548   \n1    0.018929  0.300066 -0.497563 -0.048781  0.820310 -1.159485  0.312155   \n2   -1.217276 -0.058366  0.115083 -0.375811  0.254329  0.101359  1.581773   \n3    1.482409 -0.522027  0.287246 -0.717217 -1.009369 -0.264940  1.120729   \n4    0.677321  1.447609  0.452041  0.288655 -0.918114  0.689018  0.052594   \n..        ...       ...       ...       ...       ...       ...       ...   \n495  2.179318 -0.195775 -1.026529  0.419552 -0.888599 -1.828130 -1.093215   \n496  0.831070  0.494576  0.705243 -2.041294 -0.409339  0.893717 -0.736464   \n497  0.952518  0.292515  0.332466  0.371780 -1.344199 -1.586003 -0.249734   \n498 -0.118071 -1.052040 -2.387862  0.265974  1.659865  0.008857 -1.888770   \n499  0.616197 -0.849853  0.199683 -0.936054 -1.211563 -1.825847 -0.866141   \n\n          l12       l13       l14       l15  \n0    0.127084 -0.870477 -1.295116  1.018542  \n1   -1.547691  0.828635  0.338624 -0.711430  \n2    0.023343 -0.376665 -0.093101 -0.654309  \n3   -0.889174 -0.243989  0.331645 -0.049071  \n4   -0.911691  0.874873  0.856760  0.606737  \n..        ...       ...       ...       ...  \n495 -0.437460  0.836228  1.101454 -0.574516  \n496 -0.088575  1.112626  0.580669 -0.136746  \n497 -0.434907  1.424276 -0.886536 -0.956002  \n498 -1.167058 -0.112247 -1.077938 -0.711135  \n499  0.041764  1.490881 -0.381353  1.062579  \n\n[500 rows x 18 columns]",
      "text/html": "<div>\n<style scoped>\n    .dataframe tbody tr th:only-of-type {\n        vertical-align: middle;\n    }\n\n    .dataframe tbody tr th {\n        vertical-align: top;\n    }\n\n    .dataframe thead th {\n        text-align: right;\n    }\n</style>\n<table border=\"1\" class=\"dataframe\">\n  <thead>\n    <tr style=\"text-align: right;\">\n      <th></th>\n      <th>style_name</th>\n      <th>qpm</th>\n      <th>l0</th>\n      <th>l1</th>\n      <th>l2</th>\n      <th>l3</th>\n      <th>l4</th>\n      <th>l5</th>\n      <th>l6</th>\n      <th>l7</th>\n      <th>l8</th>\n      <th>l9</th>\n      <th>l10</th>\n      <th>l11</th>\n      <th>l12</th>\n      <th>l13</th>\n      <th>l14</th>\n      <th>l15</th>\n    </tr>\n  </thead>\n  <tbody>\n    <tr>\n      <th>0</th>\n      <td>Anger</td>\n      <td>-0.088185</td>\n      <td>1.571903</td>\n      <td>0.020121</td>\n      <td>-0.863442</td>\n      <td>-1.202130</td>\n      <td>0.060519</td>\n      <td>-0.347255</td>\n      <td>-0.173362</td>\n      <td>1.063584</td>\n      <td>-0.215927</td>\n      <td>2.054391</td>\n      <td>0.023906</td>\n      <td>1.765548</td>\n      <td>0.127084</td>\n      <td>-0.870477</td>\n      <td>-1.295116</td>\n      <td>1.018542</td>\n    </tr>\n    <tr>\n      <th>1</th>\n      <td>Relax</td>\n      <td>-0.727945</td>\n      <td>-1.521764</td>\n      <td>-0.817391</td>\n      <td>-0.166701</td>\n      <td>0.141524</td>\n      <td>-0.211009</td>\n      <td>0.018929</td>\n      <td>0.300066</td>\n      <td>-0.497563</td>\n      <td>-0.048781</td>\n      <td>0.820310</td>\n      <td>-1.159485</td>\n      <td>0.312155</td>\n      <td>-1.547691</td>\n      <td>0.828635</td>\n      <td>0.338624</td>\n      <td>-0.711430</td>\n    </tr>\n    <tr>\n      <th>2</th>\n      <td>Sad</td>\n      <td>-1.365985</td>\n      <td>-0.624509</td>\n      <td>1.721794</td>\n      <td>-1.273381</td>\n      <td>-1.101166</td>\n      <td>0.511347</td>\n      <td>-1.217276</td>\n      <td>-0.058366</td>\n      <td>0.115083</td>\n      <td>-0.375811</td>\n      <td>0.254329</td>\n      <td>0.101359</td>\n      <td>1.581773</td>\n      <td>0.023343</td>\n      <td>-0.376665</td>\n      <td>-0.093101</td>\n      <td>-0.654309</td>\n    </tr>\n    <tr>\n      <th>3</th>\n      <td>Enjoy</td>\n      <td>0.156804</td>\n      <td>0.840903</td>\n      <td>-0.032408</td>\n      <td>0.817627</td>\n      <td>-0.021378</td>\n      <td>1.205140</td>\n      <td>1.482409</td>\n      <td>-0.522027</td>\n      <td>0.287246</td>\n      <td>-0.717217</td>\n      <td>-1.009369</td>\n      <td>-0.264940</td>\n      <td>1.120729</td>\n      <td>-0.889174</td>\n      <td>-0.243989</td>\n      <td>0.331645</td>\n      <td>-0.049071</td>\n    </tr>\n    <tr>\n      <th>4</th>\n      <td>OR</td>\n      <td>-0.748865</td>\n      <td>-1.226177</td>\n      <td>-0.185482</td>\n      <td>-0.415452</td>\n      <td>1.047254</td>\n      <td>-0.967145</td>\n      <td>0.677321</td>\n      <td>1.447609</td>\n      <td>0.452041</td>\n      <td>0.288655</td>\n      <td>-0.918114</td>\n      <td>0.689018</td>\n      <td>0.052594</td>\n      <td>-0.911691</td>\n      <td>0.874873</td>\n      <td>0.856760</td>\n      <td>0.606737</td>\n    </tr>\n    <tr>\n      <th>...</th>\n      <td>...</td>\n      <td>...</td>\n      <td>...</td>\n      <td>...</td>\n      <td>...</td>\n      <td>...</td>\n      <td>...</td>\n      <td>...</td>\n      <td>...</td>\n      <td>...</td>\n      <td>...</td>\n      <td>...</td>\n      <td>...</td>\n      <td>...</td>\n      <td>...</td>\n      <td>...</td>\n      <td>...</td>\n      <td>...</td>\n    </tr>\n    <tr>\n      <th>495</th>\n      <td>Anger</td>\n      <td>-0.088185</td>\n      <td>0.558506</td>\n      <td>0.207828</td>\n      <td>0.993818</td>\n      <td>-0.729255</td>\n      <td>0.530205</td>\n      <td>2.179318</td>\n      <td>-0.195775</td>\n      <td>-1.026529</td>\n      <td>0.419552</td>\n      <td>-0.888599</td>\n      <td>-1.828130</td>\n      <td>-1.093215</td>\n      <td>-0.437460</td>\n      <td>0.836228</td>\n      <td>1.101454</td>\n      <td>-0.574516</td>\n    </tr>\n    <tr>\n      <th>496</th>\n      <td>Relax</td>\n      <td>-0.727945</td>\n      <td>-0.335040</td>\n      <td>0.330002</td>\n      <td>-1.357901</td>\n      <td>0.502703</td>\n      <td>-2.155038</td>\n      <td>0.831070</td>\n      <td>0.494576</td>\n      <td>0.705243</td>\n      <td>-2.041294</td>\n      <td>-0.409339</td>\n      <td>0.893717</td>\n      <td>-0.736464</td>\n      <td>-0.088575</td>\n      <td>1.112626</td>\n      <td>0.580669</td>\n      <td>-0.136746</td>\n    </tr>\n    <tr>\n      <th>497</th>\n      <td>Sad</td>\n      <td>-1.365985</td>\n      <td>0.163575</td>\n      <td>0.646166</td>\n      <td>-0.627144</td>\n      <td>-1.226509</td>\n      <td>1.342107</td>\n      <td>0.952518</td>\n      <td>0.292515</td>\n      <td>0.332466</td>\n      <td>0.371780</td>\n      <td>-1.344199</td>\n      <td>-1.586003</td>\n      <td>-0.249734</td>\n      <td>-0.434907</td>\n      <td>1.424276</td>\n      <td>-0.886536</td>\n      <td>-0.956002</td>\n    </tr>\n    <tr>\n      <th>498</th>\n      <td>Enjoy</td>\n      <td>0.156804</td>\n      <td>-1.233486</td>\n      <td>0.624565</td>\n      <td>-0.372455</td>\n      <td>1.179735</td>\n      <td>1.105252</td>\n      <td>-0.118071</td>\n      <td>-1.052040</td>\n      <td>-2.387862</td>\n      <td>0.265974</td>\n      <td>1.659865</td>\n      <td>0.008857</td>\n      <td>-1.888770</td>\n      <td>-1.167058</td>\n      <td>-0.112247</td>\n      <td>-1.077938</td>\n      <td>-0.711135</td>\n    </tr>\n    <tr>\n      <th>499</th>\n      <td>OR</td>\n      <td>-0.748865</td>\n      <td>0.743470</td>\n      <td>-0.482871</td>\n      <td>-1.096813</td>\n      <td>1.476299</td>\n      <td>1.326706</td>\n      <td>0.616197</td>\n      <td>-0.849853</td>\n      <td>0.199683</td>\n      <td>-0.936054</td>\n      <td>-1.211563</td>\n      <td>-1.825847</td>\n      <td>-0.866141</td>\n      <td>0.041764</td>\n      <td>1.490881</td>\n      <td>-0.381353</td>\n      <td>1.062579</td>\n    </tr>\n  </tbody>\n</table>\n<p>500 rows × 18 columns</p>\n</div>"
     },
     "execution_count": 5,
     "metadata": {},
     "output_type": "execute_result"
    }
   ],
   "source": [
    "from utils.data_handling import load_data\n",
    "\n",
    "styles = load_data('multiple_styles')\n",
    "styles"
   ]
  },
  {
   "cell_type": "code",
   "execution_count": 6,
   "outputs": [
    {
     "data": {
      "text/plain": "    style_name       qpm        l0        l1        l2        l3        l4  \\\n2          Sad -1.365985 -0.624509  1.721794 -1.273381 -1.101166  0.511347   \n7          Sad -1.365985 -0.478130  1.850798 -1.112248  0.646200  0.660561   \n12         Sad -1.365985  0.429998  1.053186  0.391920  0.365410  0.269962   \n17         Sad -1.365985 -1.048065  1.084798  1.592066 -0.728840 -1.369374   \n22         Sad -1.365985 -0.186862  3.039815  0.920052  2.909980 -0.343002   \n..         ...       ...       ...       ...       ...       ...       ...   \n477        Sad -1.365985  0.529400  1.821310  0.027014 -0.828346 -0.722359   \n482        Sad -1.365985  0.206473 -0.555551 -0.058202  1.821117  0.019624   \n487        Sad -1.365985 -0.560666 -0.827930 -0.328356  0.508699 -0.610966   \n492        Sad -1.365985 -1.143795 -0.374489  0.612790  2.098148  0.552689   \n497        Sad -1.365985  0.163575  0.646166 -0.627144 -1.226509  1.342107   \n\n           l5        l6        l7        l8        l9       l10       l11  \\\n2   -1.217276 -0.058366  0.115083 -0.375811  0.254329  0.101359  1.581773   \n7    1.001115 -1.358681 -0.545347  0.322121 -0.743722  0.285224 -0.973044   \n12  -0.359827 -0.445458  1.050865  0.011542  1.473686  0.277103  1.104782   \n17   1.366398 -0.101574 -1.008923 -2.167895  0.252243  0.410889  1.515603   \n22   1.167293  1.190470  0.156781 -0.406472  1.173562 -0.710224 -0.244996   \n..        ...       ...       ...       ...       ...       ...       ...   \n477 -1.561735  0.078959 -0.398185 -1.357186  0.129431  0.379065  0.154253   \n482 -0.457214 -0.209700  1.231221  1.285904  1.399442 -0.041351  1.253644   \n487  0.199016 -0.495320 -0.163067  0.053616 -0.712344 -0.298784  0.258432   \n492 -0.901593  0.041498  0.581357  1.309071 -0.300695  0.120684 -0.424283   \n497  0.952518  0.292515  0.332466  0.371780 -1.344199 -1.586003 -0.249734   \n\n          l12       l13       l14       l15  \n2    0.023343 -0.376665 -0.093101 -0.654309  \n7   -2.429351  1.437917  1.182237  0.210343  \n12  -0.523936  1.137001 -0.601864 -1.534113  \n17   0.368348  0.315925 -0.546029  0.440246  \n22  -0.702428 -0.294400  1.429128 -0.093167  \n..        ...       ...       ...       ...  \n477  1.015351  2.166291 -1.125277 -0.563929  \n482 -1.221970 -1.558862 -0.871425 -0.218996  \n487  1.809765 -0.699858  0.214168 -0.540107  \n492  1.370841  1.101377  1.137032 -0.303065  \n497 -0.434907  1.424276 -0.886536 -0.956002  \n\n[100 rows x 18 columns]",
      "text/html": "<div>\n<style scoped>\n    .dataframe tbody tr th:only-of-type {\n        vertical-align: middle;\n    }\n\n    .dataframe tbody tr th {\n        vertical-align: top;\n    }\n\n    .dataframe thead th {\n        text-align: right;\n    }\n</style>\n<table border=\"1\" class=\"dataframe\">\n  <thead>\n    <tr style=\"text-align: right;\">\n      <th></th>\n      <th>style_name</th>\n      <th>qpm</th>\n      <th>l0</th>\n      <th>l1</th>\n      <th>l2</th>\n      <th>l3</th>\n      <th>l4</th>\n      <th>l5</th>\n      <th>l6</th>\n      <th>l7</th>\n      <th>l8</th>\n      <th>l9</th>\n      <th>l10</th>\n      <th>l11</th>\n      <th>l12</th>\n      <th>l13</th>\n      <th>l14</th>\n      <th>l15</th>\n    </tr>\n  </thead>\n  <tbody>\n    <tr>\n      <th>2</th>\n      <td>Sad</td>\n      <td>-1.365985</td>\n      <td>-0.624509</td>\n      <td>1.721794</td>\n      <td>-1.273381</td>\n      <td>-1.101166</td>\n      <td>0.511347</td>\n      <td>-1.217276</td>\n      <td>-0.058366</td>\n      <td>0.115083</td>\n      <td>-0.375811</td>\n      <td>0.254329</td>\n      <td>0.101359</td>\n      <td>1.581773</td>\n      <td>0.023343</td>\n      <td>-0.376665</td>\n      <td>-0.093101</td>\n      <td>-0.654309</td>\n    </tr>\n    <tr>\n      <th>7</th>\n      <td>Sad</td>\n      <td>-1.365985</td>\n      <td>-0.478130</td>\n      <td>1.850798</td>\n      <td>-1.112248</td>\n      <td>0.646200</td>\n      <td>0.660561</td>\n      <td>1.001115</td>\n      <td>-1.358681</td>\n      <td>-0.545347</td>\n      <td>0.322121</td>\n      <td>-0.743722</td>\n      <td>0.285224</td>\n      <td>-0.973044</td>\n      <td>-2.429351</td>\n      <td>1.437917</td>\n      <td>1.182237</td>\n      <td>0.210343</td>\n    </tr>\n    <tr>\n      <th>12</th>\n      <td>Sad</td>\n      <td>-1.365985</td>\n      <td>0.429998</td>\n      <td>1.053186</td>\n      <td>0.391920</td>\n      <td>0.365410</td>\n      <td>0.269962</td>\n      <td>-0.359827</td>\n      <td>-0.445458</td>\n      <td>1.050865</td>\n      <td>0.011542</td>\n      <td>1.473686</td>\n      <td>0.277103</td>\n      <td>1.104782</td>\n      <td>-0.523936</td>\n      <td>1.137001</td>\n      <td>-0.601864</td>\n      <td>-1.534113</td>\n    </tr>\n    <tr>\n      <th>17</th>\n      <td>Sad</td>\n      <td>-1.365985</td>\n      <td>-1.048065</td>\n      <td>1.084798</td>\n      <td>1.592066</td>\n      <td>-0.728840</td>\n      <td>-1.369374</td>\n      <td>1.366398</td>\n      <td>-0.101574</td>\n      <td>-1.008923</td>\n      <td>-2.167895</td>\n      <td>0.252243</td>\n      <td>0.410889</td>\n      <td>1.515603</td>\n      <td>0.368348</td>\n      <td>0.315925</td>\n      <td>-0.546029</td>\n      <td>0.440246</td>\n    </tr>\n    <tr>\n      <th>22</th>\n      <td>Sad</td>\n      <td>-1.365985</td>\n      <td>-0.186862</td>\n      <td>3.039815</td>\n      <td>0.920052</td>\n      <td>2.909980</td>\n      <td>-0.343002</td>\n      <td>1.167293</td>\n      <td>1.190470</td>\n      <td>0.156781</td>\n      <td>-0.406472</td>\n      <td>1.173562</td>\n      <td>-0.710224</td>\n      <td>-0.244996</td>\n      <td>-0.702428</td>\n      <td>-0.294400</td>\n      <td>1.429128</td>\n      <td>-0.093167</td>\n    </tr>\n    <tr>\n      <th>...</th>\n      <td>...</td>\n      <td>...</td>\n      <td>...</td>\n      <td>...</td>\n      <td>...</td>\n      <td>...</td>\n      <td>...</td>\n      <td>...</td>\n      <td>...</td>\n      <td>...</td>\n      <td>...</td>\n      <td>...</td>\n      <td>...</td>\n      <td>...</td>\n      <td>...</td>\n      <td>...</td>\n      <td>...</td>\n      <td>...</td>\n    </tr>\n    <tr>\n      <th>477</th>\n      <td>Sad</td>\n      <td>-1.365985</td>\n      <td>0.529400</td>\n      <td>1.821310</td>\n      <td>0.027014</td>\n      <td>-0.828346</td>\n      <td>-0.722359</td>\n      <td>-1.561735</td>\n      <td>0.078959</td>\n      <td>-0.398185</td>\n      <td>-1.357186</td>\n      <td>0.129431</td>\n      <td>0.379065</td>\n      <td>0.154253</td>\n      <td>1.015351</td>\n      <td>2.166291</td>\n      <td>-1.125277</td>\n      <td>-0.563929</td>\n    </tr>\n    <tr>\n      <th>482</th>\n      <td>Sad</td>\n      <td>-1.365985</td>\n      <td>0.206473</td>\n      <td>-0.555551</td>\n      <td>-0.058202</td>\n      <td>1.821117</td>\n      <td>0.019624</td>\n      <td>-0.457214</td>\n      <td>-0.209700</td>\n      <td>1.231221</td>\n      <td>1.285904</td>\n      <td>1.399442</td>\n      <td>-0.041351</td>\n      <td>1.253644</td>\n      <td>-1.221970</td>\n      <td>-1.558862</td>\n      <td>-0.871425</td>\n      <td>-0.218996</td>\n    </tr>\n    <tr>\n      <th>487</th>\n      <td>Sad</td>\n      <td>-1.365985</td>\n      <td>-0.560666</td>\n      <td>-0.827930</td>\n      <td>-0.328356</td>\n      <td>0.508699</td>\n      <td>-0.610966</td>\n      <td>0.199016</td>\n      <td>-0.495320</td>\n      <td>-0.163067</td>\n      <td>0.053616</td>\n      <td>-0.712344</td>\n      <td>-0.298784</td>\n      <td>0.258432</td>\n      <td>1.809765</td>\n      <td>-0.699858</td>\n      <td>0.214168</td>\n      <td>-0.540107</td>\n    </tr>\n    <tr>\n      <th>492</th>\n      <td>Sad</td>\n      <td>-1.365985</td>\n      <td>-1.143795</td>\n      <td>-0.374489</td>\n      <td>0.612790</td>\n      <td>2.098148</td>\n      <td>0.552689</td>\n      <td>-0.901593</td>\n      <td>0.041498</td>\n      <td>0.581357</td>\n      <td>1.309071</td>\n      <td>-0.300695</td>\n      <td>0.120684</td>\n      <td>-0.424283</td>\n      <td>1.370841</td>\n      <td>1.101377</td>\n      <td>1.137032</td>\n      <td>-0.303065</td>\n    </tr>\n    <tr>\n      <th>497</th>\n      <td>Sad</td>\n      <td>-1.365985</td>\n      <td>0.163575</td>\n      <td>0.646166</td>\n      <td>-0.627144</td>\n      <td>-1.226509</td>\n      <td>1.342107</td>\n      <td>0.952518</td>\n      <td>0.292515</td>\n      <td>0.332466</td>\n      <td>0.371780</td>\n      <td>-1.344199</td>\n      <td>-1.586003</td>\n      <td>-0.249734</td>\n      <td>-0.434907</td>\n      <td>1.424276</td>\n      <td>-0.886536</td>\n      <td>-0.956002</td>\n    </tr>\n  </tbody>\n</table>\n<p>100 rows × 18 columns</p>\n</div>"
     },
     "execution_count": 6,
     "metadata": {},
     "output_type": "execute_result"
    }
   ],
   "source": [
    "anger = styles[styles['style_name'] =='Anger']\n",
    "sad = styles[styles['style_name'] == 'Sad']\n",
    "sad"
   ],
   "metadata": {
    "collapsed": false,
    "pycharm": {
     "name": "#%%\n"
    }
   }
  },
  {
   "cell_type": "code",
   "execution_count": 8,
   "outputs": [
    {
     "data": {
      "text/plain": "           l0        l1        l2        l3        l4        l5        l6  \\\n2   -0.624509  1.721794 -1.273381 -1.101166  0.511347 -1.217276 -0.058366   \n7   -0.478130  1.850798 -1.112248  0.646200  0.660561  1.001115 -1.358681   \n12   0.429998  1.053186  0.391920  0.365410  0.269962 -0.359827 -0.445458   \n17  -1.048065  1.084798  1.592066 -0.728840 -1.369374  1.366398 -0.101574   \n22  -0.186862  3.039815  0.920052  2.909980 -0.343002  1.167293  1.190470   \n..        ...       ...       ...       ...       ...       ...       ...   \n477  0.529400  1.821310  0.027014 -0.828346 -0.722359 -1.561735  0.078959   \n482  0.206473 -0.555551 -0.058202  1.821117  0.019624 -0.457214 -0.209700   \n487 -0.560666 -0.827930 -0.328356  0.508699 -0.610966  0.199016 -0.495320   \n492 -1.143795 -0.374489  0.612790  2.098148  0.552689 -0.901593  0.041498   \n497  0.163575  0.646166 -0.627144 -1.226509  1.342107  0.952518  0.292515   \n\n           l7        l8        l9       l10       l11       l12       l13  \\\n2    0.115083 -0.375811  0.254329  0.101359  1.581773  0.023343 -0.376665   \n7   -0.545347  0.322121 -0.743722  0.285224 -0.973044 -2.429351  1.437917   \n12   1.050865  0.011542  1.473686  0.277103  1.104782 -0.523936  1.137001   \n17  -1.008923 -2.167895  0.252243  0.410889  1.515603  0.368348  0.315925   \n22   0.156781 -0.406472  1.173562 -0.710224 -0.244996 -0.702428 -0.294400   \n..        ...       ...       ...       ...       ...       ...       ...   \n477 -0.398185 -1.357186  0.129431  0.379065  0.154253  1.015351  2.166291   \n482  1.231221  1.285904  1.399442 -0.041351  1.253644 -1.221970 -1.558862   \n487 -0.163067  0.053616 -0.712344 -0.298784  0.258432  1.809765 -0.699858   \n492  0.581357  1.309071 -0.300695  0.120684 -0.424283  1.370841  1.101377   \n497  0.332466  0.371780 -1.344199 -1.586003 -0.249734 -0.434907  1.424276   \n\n          l14       l15  \n2   -0.093101 -0.654309  \n7    1.182237  0.210343  \n12  -0.601864 -1.534113  \n17  -0.546029  0.440246  \n22   1.429128 -0.093167  \n..        ...       ...  \n477 -1.125277 -0.563929  \n482 -0.871425 -0.218996  \n487  0.214168 -0.540107  \n492  1.137032 -0.303065  \n497 -0.886536 -0.956002  \n\n[100 rows x 16 columns]",
      "text/html": "<div>\n<style scoped>\n    .dataframe tbody tr th:only-of-type {\n        vertical-align: middle;\n    }\n\n    .dataframe tbody tr th {\n        vertical-align: top;\n    }\n\n    .dataframe thead th {\n        text-align: right;\n    }\n</style>\n<table border=\"1\" class=\"dataframe\">\n  <thead>\n    <tr style=\"text-align: right;\">\n      <th></th>\n      <th>l0</th>\n      <th>l1</th>\n      <th>l2</th>\n      <th>l3</th>\n      <th>l4</th>\n      <th>l5</th>\n      <th>l6</th>\n      <th>l7</th>\n      <th>l8</th>\n      <th>l9</th>\n      <th>l10</th>\n      <th>l11</th>\n      <th>l12</th>\n      <th>l13</th>\n      <th>l14</th>\n      <th>l15</th>\n    </tr>\n  </thead>\n  <tbody>\n    <tr>\n      <th>2</th>\n      <td>-0.624509</td>\n      <td>1.721794</td>\n      <td>-1.273381</td>\n      <td>-1.101166</td>\n      <td>0.511347</td>\n      <td>-1.217276</td>\n      <td>-0.058366</td>\n      <td>0.115083</td>\n      <td>-0.375811</td>\n      <td>0.254329</td>\n      <td>0.101359</td>\n      <td>1.581773</td>\n      <td>0.023343</td>\n      <td>-0.376665</td>\n      <td>-0.093101</td>\n      <td>-0.654309</td>\n    </tr>\n    <tr>\n      <th>7</th>\n      <td>-0.478130</td>\n      <td>1.850798</td>\n      <td>-1.112248</td>\n      <td>0.646200</td>\n      <td>0.660561</td>\n      <td>1.001115</td>\n      <td>-1.358681</td>\n      <td>-0.545347</td>\n      <td>0.322121</td>\n      <td>-0.743722</td>\n      <td>0.285224</td>\n      <td>-0.973044</td>\n      <td>-2.429351</td>\n      <td>1.437917</td>\n      <td>1.182237</td>\n      <td>0.210343</td>\n    </tr>\n    <tr>\n      <th>12</th>\n      <td>0.429998</td>\n      <td>1.053186</td>\n      <td>0.391920</td>\n      <td>0.365410</td>\n      <td>0.269962</td>\n      <td>-0.359827</td>\n      <td>-0.445458</td>\n      <td>1.050865</td>\n      <td>0.011542</td>\n      <td>1.473686</td>\n      <td>0.277103</td>\n      <td>1.104782</td>\n      <td>-0.523936</td>\n      <td>1.137001</td>\n      <td>-0.601864</td>\n      <td>-1.534113</td>\n    </tr>\n    <tr>\n      <th>17</th>\n      <td>-1.048065</td>\n      <td>1.084798</td>\n      <td>1.592066</td>\n      <td>-0.728840</td>\n      <td>-1.369374</td>\n      <td>1.366398</td>\n      <td>-0.101574</td>\n      <td>-1.008923</td>\n      <td>-2.167895</td>\n      <td>0.252243</td>\n      <td>0.410889</td>\n      <td>1.515603</td>\n      <td>0.368348</td>\n      <td>0.315925</td>\n      <td>-0.546029</td>\n      <td>0.440246</td>\n    </tr>\n    <tr>\n      <th>22</th>\n      <td>-0.186862</td>\n      <td>3.039815</td>\n      <td>0.920052</td>\n      <td>2.909980</td>\n      <td>-0.343002</td>\n      <td>1.167293</td>\n      <td>1.190470</td>\n      <td>0.156781</td>\n      <td>-0.406472</td>\n      <td>1.173562</td>\n      <td>-0.710224</td>\n      <td>-0.244996</td>\n      <td>-0.702428</td>\n      <td>-0.294400</td>\n      <td>1.429128</td>\n      <td>-0.093167</td>\n    </tr>\n    <tr>\n      <th>...</th>\n      <td>...</td>\n      <td>...</td>\n      <td>...</td>\n      <td>...</td>\n      <td>...</td>\n      <td>...</td>\n      <td>...</td>\n      <td>...</td>\n      <td>...</td>\n      <td>...</td>\n      <td>...</td>\n      <td>...</td>\n      <td>...</td>\n      <td>...</td>\n      <td>...</td>\n      <td>...</td>\n    </tr>\n    <tr>\n      <th>477</th>\n      <td>0.529400</td>\n      <td>1.821310</td>\n      <td>0.027014</td>\n      <td>-0.828346</td>\n      <td>-0.722359</td>\n      <td>-1.561735</td>\n      <td>0.078959</td>\n      <td>-0.398185</td>\n      <td>-1.357186</td>\n      <td>0.129431</td>\n      <td>0.379065</td>\n      <td>0.154253</td>\n      <td>1.015351</td>\n      <td>2.166291</td>\n      <td>-1.125277</td>\n      <td>-0.563929</td>\n    </tr>\n    <tr>\n      <th>482</th>\n      <td>0.206473</td>\n      <td>-0.555551</td>\n      <td>-0.058202</td>\n      <td>1.821117</td>\n      <td>0.019624</td>\n      <td>-0.457214</td>\n      <td>-0.209700</td>\n      <td>1.231221</td>\n      <td>1.285904</td>\n      <td>1.399442</td>\n      <td>-0.041351</td>\n      <td>1.253644</td>\n      <td>-1.221970</td>\n      <td>-1.558862</td>\n      <td>-0.871425</td>\n      <td>-0.218996</td>\n    </tr>\n    <tr>\n      <th>487</th>\n      <td>-0.560666</td>\n      <td>-0.827930</td>\n      <td>-0.328356</td>\n      <td>0.508699</td>\n      <td>-0.610966</td>\n      <td>0.199016</td>\n      <td>-0.495320</td>\n      <td>-0.163067</td>\n      <td>0.053616</td>\n      <td>-0.712344</td>\n      <td>-0.298784</td>\n      <td>0.258432</td>\n      <td>1.809765</td>\n      <td>-0.699858</td>\n      <td>0.214168</td>\n      <td>-0.540107</td>\n    </tr>\n    <tr>\n      <th>492</th>\n      <td>-1.143795</td>\n      <td>-0.374489</td>\n      <td>0.612790</td>\n      <td>2.098148</td>\n      <td>0.552689</td>\n      <td>-0.901593</td>\n      <td>0.041498</td>\n      <td>0.581357</td>\n      <td>1.309071</td>\n      <td>-0.300695</td>\n      <td>0.120684</td>\n      <td>-0.424283</td>\n      <td>1.370841</td>\n      <td>1.101377</td>\n      <td>1.137032</td>\n      <td>-0.303065</td>\n    </tr>\n    <tr>\n      <th>497</th>\n      <td>0.163575</td>\n      <td>0.646166</td>\n      <td>-0.627144</td>\n      <td>-1.226509</td>\n      <td>1.342107</td>\n      <td>0.952518</td>\n      <td>0.292515</td>\n      <td>0.332466</td>\n      <td>0.371780</td>\n      <td>-1.344199</td>\n      <td>-1.586003</td>\n      <td>-0.249734</td>\n      <td>-0.434907</td>\n      <td>1.424276</td>\n      <td>-0.886536</td>\n      <td>-0.956002</td>\n    </tr>\n  </tbody>\n</table>\n<p>100 rows × 16 columns</p>\n</div>"
     },
     "execution_count": 8,
     "metadata": {},
     "output_type": "execute_result"
    }
   ],
   "source": [
    "anger_x = anger.loc[:,'l0':]\n",
    "sad_x = sad.loc[:,'l0':]\n",
    "sad_x"
   ],
   "metadata": {
    "collapsed": false,
    "pycharm": {
     "name": "#%%\n"
    }
   }
  },
  {
   "cell_type": "code",
   "execution_count": 17,
   "outputs": [
    {
     "data": {
      "text/plain": "(200,)"
     },
     "execution_count": 17,
     "metadata": {},
     "output_type": "execute_result"
    }
   ],
   "source": [
    "import numpy as np\n",
    "X = np.append(anger_x.to_numpy(), sad_x.to_numpy(), axis=0)\n",
    "y = np.append(np.zeros(len(anger_x)), np.ones(len(sad_x)))\n"
   ],
   "metadata": {
    "collapsed": false,
    "pycharm": {
     "name": "#%%\n"
    }
   }
  },
  {
   "cell_type": "code",
   "execution_count": 18,
   "outputs": [
    {
     "data": {
      "text/plain": "array([[-1.47801328,  0.17054822, -2.2008841 , ...,  1.98642159,\n         0.5083136 , -0.01340378],\n       [-0.90885687, -1.22260451,  2.78001547, ...,  0.13584934,\n         0.54223508,  0.5421623 ],\n       [-1.69684279,  0.10785504, -0.3548269 , ..., -0.96116769,\n        -0.45524821,  0.47696608],\n       ...,\n       [-0.34021595,  1.18607271, -0.68768376, ...,  0.17245832,\n         0.11025269, -1.48247731],\n       [-0.11900901,  0.27515534,  0.38232046, ...,  2.5238533 ,\n        -0.20025989, -0.87093467],\n       [-1.64882076, -1.08809948, -0.68112504, ...,  0.1858815 ,\n        -0.4754642 , -0.86491448]])"
     },
     "execution_count": 18,
     "metadata": {},
     "output_type": "execute_result"
    }
   ],
   "source": [
    "def unison_shuffled_copies(a, b):\n",
    "    assert len(a) == len(b)\n",
    "    p = np.random.permutation(len(a))\n",
    "    return a[p], b[p]\n",
    "\n",
    "X_shuffled, y_shuffled = unison_shuffled_copies(X, y)"
   ],
   "metadata": {
    "collapsed": false,
    "pycharm": {
     "name": "#%%\n"
    }
   }
  },
  {
   "cell_type": "code",
   "execution_count": 22,
   "outputs": [
    {
     "data": {
      "text/plain": "(200,)"
     },
     "execution_count": 22,
     "metadata": {},
     "output_type": "execute_result"
    }
   ],
   "source": [
    "train_percentage = 0.8\n",
    "index = int(len(X_shuffled)*train_percentage)\n",
    "X_train, X_test = X_shuffled[:index], X_shuffled[index:]\n",
    "y_train, y_test = y_shuffled[:index], y_shuffled[index:]"
   ],
   "metadata": {
    "collapsed": false,
    "pycharm": {
     "name": "#%%\n"
    }
   }
  },
  {
   "cell_type": "code",
   "execution_count": 27,
   "outputs": [
    {
     "data": {
      "text/plain": "SVC()"
     },
     "execution_count": 27,
     "metadata": {},
     "output_type": "execute_result"
    }
   ],
   "source": [
    "from sklearn import svm\n",
    "classifier = svm.SVC()\n",
    "classifier.fit(X_train, y_train)"
   ],
   "metadata": {
    "collapsed": false,
    "pycharm": {
     "name": "#%%\n"
    }
   }
  },
  {
   "cell_type": "code",
   "execution_count": 28,
   "outputs": [
    {
     "data": {
      "text/plain": "(0.35, 0.47368421052631576)"
     },
     "execution_count": 28,
     "metadata": {},
     "output_type": "execute_result"
    }
   ],
   "source": [
    "from sklearn.metrics import accuracy_score, recall_score\n",
    "y_pred = classifier.predict(X_test)\n",
    "acc = accuracy_score(y_test, y_pred)\n",
    "recall = recall_score(y_test, y_pred)\n",
    "acc, recall"
   ],
   "metadata": {
    "collapsed": false,
    "pycharm": {
     "name": "#%%\n"
    }
   }
  }
 ],
 "metadata": {
  "kernelspec": {
   "display_name": "Python 3",
   "language": "python",
   "name": "python3"
  },
  "language_info": {
   "codemirror_mode": {
    "name": "ipython",
    "version": 2
   },
   "file_extension": ".py",
   "mimetype": "text/x-python",
   "name": "python",
   "nbconvert_exporter": "python",
   "pygments_lexer": "ipython2",
   "version": "2.7.6"
  }
 },
 "nbformat": 4,
 "nbformat_minor": 0
}