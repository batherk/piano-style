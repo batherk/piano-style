{
 "cells": [
  {
   "cell_type": "code",
   "execution_count": 1,
   "metadata": {
    "collapsed": true
   },
   "outputs": [],
   "source": [
    "from utils.data_handling import save_styles_df, load_styles_df\n",
    "from utils.data_generation import generate_styles_df"
   ]
  },
  {
   "cell_type": "code",
   "execution_count": 2,
   "outputs": [
    {
     "name": "stderr",
     "output_type": "stream",
     "text": [
      "/Users/batman/git/piano-style/venv/lib/python3.8/site-packages/pretty_midi/pretty_midi.py:97: RuntimeWarning: Tempo, Key or Time signature change events found on non-zero tracks.  This is not a valid type 0 or type 1 MIDI file.  Tempo, Key or Time Signature may be wrong.\n",
      "  warnings.warn(\n"
     ]
    },
    {
     "name": "stdout",
     "output_type": "stream",
     "text": [
      "performance name is Anger_sub1\n",
      "Number of non matched pairs: 0\n",
      "Number of mismatched notes:  0\n",
      "Number of Matched Notes: 549, unmatched notes: 0\n"
     ]
    },
    {
     "name": "stderr",
     "output_type": "stream",
     "text": [
      "/Users/batman/git/piano-style/venv/lib/python3.8/site-packages/torch/nn/functional.py:1794: UserWarning: nn.functional.tanh is deprecated. Use torch.tanh instead.\n",
      "  warnings.warn(\"nn.functional.tanh is deprecated. Use torch.tanh instead.\")\n"
     ]
    },
    {
     "name": "stdout",
     "output_type": "stream",
     "text": [
      "performance name is Relax_sub1\n",
      "Number of non matched pairs: 0\n",
      "Number of mismatched notes:  0\n",
      "Number of Matched Notes: 549, unmatched notes: 0\n",
      "performance name is Sad_sub1\n",
      "Number of non matched pairs: 0\n",
      "Number of mismatched notes:  0\n",
      "Number of Matched Notes: 549, unmatched notes: 0\n",
      "performance name is Enjoy_sub1\n",
      "Number of non matched pairs: 0\n",
      "Number of mismatched notes:  0\n",
      "Number of Matched Notes: 549, unmatched notes: 0\n",
      "performance name is OR_sub1\n",
      "Number of non matched pairs: 0\n",
      "Number of mismatched notes:  0\n",
      "Number of Matched Notes: 549, unmatched notes: 0\n"
     ]
    }
   ],
   "source": [
    "styles_df = generate_styles_df()\n"
   ],
   "metadata": {
    "collapsed": false,
    "pycharm": {
     "name": "#%% Generating\n"
    }
   }
  },
  {
   "cell_type": "code",
   "execution_count": 3,
   "outputs": [],
   "source": [
    "save_styles_df(styles_df)"
   ],
   "metadata": {
    "collapsed": false,
    "pycharm": {
     "name": "#%% Saving\n"
    }
   }
  },
  {
   "cell_type": "code",
   "execution_count": 4,
   "outputs": [
    {
     "name": "stdout",
     "output_type": "stream",
     "text": [
      "  style_name       qpm        l0        l1        l2        l3        l4  \\\n",
      "0      Anger -0.088185  0.320047  0.125091  0.569083 -0.268991  0.211183   \n",
      "1      Relax -0.727945  0.122237  0.007842  0.078548 -0.426406 -0.166890   \n",
      "2        Sad -1.365985 -0.086780  0.260884 -0.135548  0.246412 -0.393776   \n",
      "3      Enjoy  0.156804 -0.015523 -0.067651 -0.280312  0.086956 -0.441022   \n",
      "4         OR -0.748865 -0.045996  0.391891  0.265314  0.348088 -0.120981   \n",
      "\n",
      "         l5        l6        l7        l8        l9       l10       l11  \\\n",
      "0  0.003368 -0.042467 -0.045451  0.376120 -0.288402  0.275228 -0.191643   \n",
      "1 -0.075370 -0.425709  0.251372 -0.245311  0.384217 -0.254634  0.086249   \n",
      "2  0.157329  0.282188  0.025589  0.355732  0.406484  0.612942 -0.305952   \n",
      "3  0.037625  0.050972 -0.233705 -0.031752  0.390418  0.154782  0.036551   \n",
      "4  0.283325  0.177931  0.491627 -0.208963  0.230866 -0.278071  0.080426   \n",
      "\n",
      "        l12       l13       l14       l15  \n",
      "0 -0.496709 -0.046388  0.583014 -0.419009  \n",
      "1 -0.435317  0.371955 -0.067439 -0.266113  \n",
      "2  0.589828 -0.084130  0.543457  0.179436  \n",
      "3 -0.151584 -0.037600  0.000806  0.772011  \n",
      "4 -0.152689  0.122893 -0.139642  0.417690  \n"
     ]
    }
   ],
   "source": [
    "loaded = load_styles_df()\n",
    "\n",
    "print(styles_df)"
   ],
   "metadata": {
    "collapsed": false,
    "pycharm": {
     "name": "#%%\n"
    }
   }
  }
 ],
 "metadata": {
  "kernelspec": {
   "display_name": "Python 3",
   "language": "python",
   "name": "python3"
  },
  "language_info": {
   "codemirror_mode": {
    "name": "ipython",
    "version": 2
   },
   "file_extension": ".py",
   "mimetype": "text/x-python",
   "name": "python",
   "nbconvert_exporter": "python",
   "pygments_lexer": "ipython2",
   "version": "2.7.6"
  }
 },
 "nbformat": 4,
 "nbformat_minor": 0
}