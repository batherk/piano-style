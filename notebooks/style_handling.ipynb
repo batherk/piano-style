{
 "cells": [
  {
   "cell_type": "code",
   "execution_count": 1,
   "metadata": {
    "collapsed": true
   },
   "outputs": [],
   "source": [
    "from utils.data_handling import load_data, save_data\n",
    "from utils.data_generation import generate_styles_df"
   ]
  },
  {
   "cell_type": "code",
   "execution_count": 2,
   "outputs": [
    {
     "name": "stderr",
     "output_type": "stream",
     "text": [
      "/Users/batman/git/piano-style/venv/lib/python3.8/site-packages/pretty_midi/pretty_midi.py:97: RuntimeWarning: Tempo, Key or Time signature change events found on non-zero tracks.  This is not a valid type 0 or type 1 MIDI file.  Tempo, Key or Time Signature may be wrong.\n",
      "  warnings.warn(\n"
     ]
    },
    {
     "name": "stdout",
     "output_type": "stream",
     "text": [
      "performance name is Anger_sub1\n",
      "Number of non matched pairs: 0\n",
      "Number of mismatched notes:  0\n",
      "Number of Matched Notes: 549, unmatched notes: 0\n"
     ]
    },
    {
     "name": "stderr",
     "output_type": "stream",
     "text": [
      "/Users/batman/git/piano-style/venv/lib/python3.8/site-packages/torch/nn/functional.py:1794: UserWarning: nn.functional.tanh is deprecated. Use torch.tanh instead.\n",
      "  warnings.warn(\"nn.functional.tanh is deprecated. Use torch.tanh instead.\")\n"
     ]
    },
    {
     "name": "stdout",
     "output_type": "stream",
     "text": [
      "performance name is Relax_sub1\n",
      "Number of non matched pairs: 0\n",
      "Number of mismatched notes:  0\n",
      "Number of Matched Notes: 549, unmatched notes: 0\n",
      "performance name is Sad_sub1\n",
      "Number of non matched pairs: 0\n",
      "Number of mismatched notes:  0\n",
      "Number of Matched Notes: 549, unmatched notes: 0\n",
      "performance name is Enjoy_sub1\n",
      "Number of non matched pairs: 0\n",
      "Number of mismatched notes:  0\n",
      "Number of Matched Notes: 549, unmatched notes: 0\n",
      "performance name is OR_sub1\n",
      "Number of non matched pairs: 0\n",
      "Number of mismatched notes:  0\n",
      "Number of Matched Notes: 549, unmatched notes: 0\n"
     ]
    }
   ],
   "source": [
    "styles_df = generate_styles_df()\n"
   ],
   "metadata": {
    "collapsed": false,
    "pycharm": {
     "name": "#%% Generating\n"
    }
   }
  },
  {
   "cell_type": "code",
   "execution_count": 3,
   "outputs": [],
   "source": [
    "save_data(styles_df)"
   ],
   "metadata": {
    "collapsed": false,
    "pycharm": {
     "name": "#%% Saving\n"
    }
   }
  },
  {
   "cell_type": "code",
   "execution_count": 4,
   "outputs": [
    {
     "name": "stdout",
     "output_type": "stream",
     "text": [
      "  style_name       qpm        l0        l1        l2        l3        l4  \\\n",
      "0      Anger -0.088185 -0.041259 -0.375636  0.025577  0.021645 -0.278880   \n",
      "1      Relax -0.727945  0.152934  0.036008  0.036071  0.342172 -0.115116   \n",
      "2        Sad -1.365985 -0.141770  0.055256 -0.189260  0.094697  0.332947   \n",
      "3      Enjoy  0.156804 -0.302991  0.060393 -0.382815 -0.035235  0.325679   \n",
      "4         OR -0.748865  0.137800 -0.273714  0.114309 -0.385121 -0.375461   \n",
      "\n",
      "         l5        l6        l7        l8        l9       l10       l11  \\\n",
      "0  0.371134 -0.639310  0.164010  0.379446  0.079149  0.181637 -0.270190   \n",
      "1 -0.104002 -0.261202 -0.318965  0.112110 -0.521663 -0.447223 -0.157879   \n",
      "2 -0.421669 -0.120066  0.078958 -0.143354  0.449491  0.462296  0.009147   \n",
      "3 -0.122124  0.206985  0.201750 -0.231509  0.358242  0.386635  0.040984   \n",
      "4  0.058936  0.387535  0.238054 -0.552715 -0.460295  0.042831  0.327627   \n",
      "\n",
      "        l12       l13       l14       l15  \n",
      "0  0.166295  0.255198  0.130079  0.742981  \n",
      "1 -0.323434  0.196307  0.821373 -0.046567  \n",
      "2 -0.112753  0.135736  0.237221  0.350325  \n",
      "3  0.342053  0.175681 -0.248485  0.160537  \n",
      "4 -0.214786  0.545695 -0.093905 -0.321694  \n"
     ]
    }
   ],
   "source": [
    "loaded = load_data()\n",
    "\n",
    "print(styles_df)"
   ],
   "metadata": {
    "collapsed": false,
    "pycharm": {
     "name": "#%%\n"
    }
   }
  }
 ],
 "metadata": {
  "kernelspec": {
   "display_name": "Python 3",
   "language": "python",
   "name": "python3"
  },
  "language_info": {
   "codemirror_mode": {
    "name": "ipython",
    "version": 2
   },
   "file_extension": ".py",
   "mimetype": "text/x-python",
   "name": "python",
   "nbconvert_exporter": "python",
   "pygments_lexer": "ipython2",
   "version": "2.7.6"
  }
 },
 "nbformat": 4,
 "nbformat_minor": 0
}