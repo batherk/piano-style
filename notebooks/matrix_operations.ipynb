{
 "cells": [
  {
   "cell_type": "code",
   "execution_count": 1,
   "metadata": {
    "collapsed": true
   },
   "outputs": [],
   "source": [
    "\n",
    "import numpy as np\n",
    "from utils.matrix import get_dimensionality_reduction_matrix\n",
    "\n",
    "np.random.seed(1)\n",
    "dimension_vector_1 = np.random.normal(0,1,8)\n",
    "dimension_vector_2 = np.random.normal(0,1,8)"
   ]
  },
  {
   "cell_type": "code",
   "execution_count": 2,
   "outputs": [],
   "source": [
    "matrix_1 = get_dimensionality_reduction_matrix(dimension_vector_1)"
   ],
   "metadata": {
    "collapsed": false,
    "pycharm": {
     "name": "#%%\n"
    }
   }
  },
  {
   "cell_type": "code",
   "execution_count": 3,
   "outputs": [],
   "source": [
    "test_vector = np.random.normal(0,1,8)\n",
    "dimension_scalar_1 = -10"
   ],
   "metadata": {
    "collapsed": false,
    "pycharm": {
     "name": "#%%\n"
    }
   }
  },
  {
   "cell_type": "code",
   "execution_count": 4,
   "outputs": [
    {
     "name": "stdout",
     "output_type": "stream",
     "text": [
      "[-0.17242821 -0.87785842  0.04221375  0.58281521 -1.10061918  1.14472371\n",
      "  0.90159072  0.50249434]\n",
      "[-16.41588184   5.23970572   5.32393127  11.31250144  -9.75469547\n",
      "  24.16011068 -16.54652692   8.11456335]\n"
     ]
    }
   ],
   "source": [
    "test_vector_added = test_vector + dimension_scalar_1 * dimension_vector_1\n",
    "print(test_vector)\n",
    "print(test_vector_added)"
   ],
   "metadata": {
    "collapsed": false,
    "pycharm": {
     "name": "#%%\n"
    }
   }
  },
  {
   "cell_type": "code",
   "execution_count": 5,
   "outputs": [
    {
     "name": "stdout",
     "output_type": "stream",
     "text": [
      "[-1.01177073 -0.56174758  0.31513416  1.13724668 -1.54779835  2.33399007\n",
      " -2.05339062  0.89583022] [-1.01177073 -0.56174758  0.31513416  1.13724668 -1.54779835  2.33399007\n",
      " -2.05339062  0.89583022]\n"
     ]
    }
   ],
   "source": [
    "transformed_test_vector = test_vector.dot(matrix_1)\n",
    "transformed_test_vector_added = test_vector_added.dot(matrix_1)\n",
    "print(transformed_test_vector,transformed_test_vector_added)\n",
    "\n",
    "\n"
   ],
   "metadata": {
    "collapsed": false,
    "pycharm": {
     "name": "#%%\n"
    }
   }
  }
 ],
 "metadata": {
  "kernelspec": {
   "display_name": "Python 3",
   "language": "python",
   "name": "python3"
  },
  "language_info": {
   "codemirror_mode": {
    "name": "ipython",
    "version": 2
   },
   "file_extension": ".py",
   "mimetype": "text/x-python",
   "name": "python",
   "nbconvert_exporter": "python",
   "pygments_lexer": "ipython2",
   "version": "2.7.6"
  }
 },
 "nbformat": 4,
 "nbformat_minor": 0
}