{
 "cells": [
  {
   "cell_type": "code",
   "execution_count": 68,
   "metadata": {
    "collapsed": true
   },
   "outputs": [],
   "source": [
    "\n",
    "import numpy as np\n",
    "\n",
    "def get_dimensionality_reduction_matrix(vector, i_a=None, i_b=None):\n",
    "    if not (i_a and i_b):\n",
    "        non_zero_indicies = np.nonzero(vector)[0]\n",
    "        i_a, i_b = non_zero_indicies[-2:]\n",
    "    last_row = -vector/vector[i_a]\n",
    "    matrix = np.identity(len(vector))\n",
    "    matrix[i_b,i_a] = vector[i_a]/vector[i_b]\n",
    "    matrix[i_a] = last_row\n",
    "    return matrix\n",
    "\n",
    "\n",
    "np.random.seed(1)\n",
    "dimension_vector_1 = np.random.normal(0,1,8)\n",
    "dimension_vector_2 = np.random.normal(0,1,8)"
   ]
  },
  {
   "cell_type": "code",
   "execution_count": 69,
   "outputs": [],
   "source": [
    "matrix_1 = get_dimensionality_reduction_matrix(dimension_vector_1,0,1)\n",
    "dimension_vector_2_transformed = dimension_vector_2.dot(matrix_1)\n",
    "matrix_2 = get_dimensionality_reduction_matrix(dimension_vector_2_transformed,1,2)\n",
    "combined = matrix_1.dot(matrix_2)"
   ],
   "metadata": {
    "collapsed": false,
    "pycharm": {
     "name": "#%%\n"
    }
   }
  },
  {
   "cell_type": "code",
   "execution_count": 70,
   "outputs": [],
   "source": [
    "test_vector = np.random.normal(0,1,8)\n",
    "dimension_scalar_1 = -4\n",
    "dimension_scalar_2 = 3"
   ],
   "metadata": {
    "collapsed": false,
    "pycharm": {
     "name": "#%%\n"
    }
   }
  },
  {
   "cell_type": "code",
   "execution_count": 71,
   "outputs": [
    {
     "name": "stdout",
     "output_type": "stream",
     "text": [
      "[-0.17242821 -0.87785842  0.04221375  0.58281521 -1.10061918  1.14472371\n",
      "  0.90159072  0.50249434]\n",
      "[-5.71269237  0.82105611  6.54122457 -1.30573243 -5.52950131  9.19871543\n",
      " -2.67634801  0.24764814]\n"
     ]
    }
   ],
   "source": [
    "test_vector_added = test_vector + dimension_scalar_1 * dimension_vector_1 + dimension_scalar_2 * dimension_vector_2\n",
    "print(test_vector)\n",
    "print(test_vector_added)"
   ],
   "metadata": {
    "collapsed": false,
    "pycharm": {
     "name": "#%%\n"
    }
   }
  },
  {
   "cell_type": "code",
   "execution_count": 72,
   "outputs": [
    {
     "name": "stdout",
     "output_type": "stream",
     "text": [
      "[-3.80429241  0.58760782  7.1606191  -4.03079666 -4.90266248  6.54853987\n",
      "  3.20729302 -1.39924181]\n",
      "[-3.80429241  0.58760782  7.1606191  -4.03079666 -4.90266248  6.54853987\n",
      "  3.20729302 -1.39924181]\n"
     ]
    }
   ],
   "source": [
    "transformed_test_vector = test_vector.dot(combined)\n",
    "transformed_test_vector_added = test_vector_added.dot(combined)\n",
    "print(transformed_test_vector)\n",
    "print(transformed_test_vector_added)"
   ],
   "metadata": {
    "collapsed": false,
    "pycharm": {
     "name": "#%%\n"
    }
   }
  },
  {
   "cell_type": "code",
   "execution_count": 74,
   "outputs": [
    {
     "name": "stdout",
     "output_type": "stream",
     "text": [
      "[-1.77028913 -0.38920872 -0.90166113  1.390894   -1.51116233  1.74378791\n",
      "  0.20202719  1.60322469]\n",
      "[-3.5410524   0.2494023   3.03922925 -1.41390074 -3.51276238  4.39890774\n",
      " -0.89534697  0.39061193]\n",
      "[-3.5410524   0.2494023   3.03922925 -1.41390074 -3.51276238  4.39890774\n",
      " -0.89534697  0.39061193]\n"
     ]
    }
   ],
   "source": [
    "test_vector_2 = np.random.normal(0,1,8)\n",
    "\n",
    "dim_1_component = test_vector_2.dot(dimension_vector_1)\n",
    "dim_2_component = test_vector_2.dot(dimension_vector_2)\n",
    "\n",
    "test_vector_2_removed = test_vector_2 - dim_1_component * dimension_vector_1 - dim_2_component * dimension_vector_2\n",
    "test_vector_2_transformed = test_vector_2.dot(combined)\n",
    "test_vector_2_removed_transformed = test_vector_2_removed.dot(combined)\n",
    "\n",
    "print(test_vector_2_removed)\n",
    "print(test_vector_2_transformed)\n",
    "print(test_vector_2_removed_transformed)\n",
    "\n",
    "\n"
   ],
   "metadata": {
    "collapsed": false,
    "pycharm": {
     "name": "#%%\n"
    }
   }
  }
 ],
 "metadata": {
  "kernelspec": {
   "display_name": "Python 3",
   "language": "python",
   "name": "python3"
  },
  "language_info": {
   "codemirror_mode": {
    "name": "ipython",
    "version": 2
   },
   "file_extension": ".py",
   "mimetype": "text/x-python",
   "name": "python",
   "nbconvert_exporter": "python",
   "pygments_lexer": "ipython2",
   "version": "2.7.6"
  }
 },
 "nbformat": 4,
 "nbformat_minor": 0
}