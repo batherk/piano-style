{
 "cells": [
  {
   "cell_type": "code",
   "execution_count": 1,
   "metadata": {
    "collapsed": true,
    "pycharm": {
     "name": "#%% Imports\n"
    }
   },
   "outputs": [],
   "source": [
    "from Style import Style, anger, sad"
   ]
  },
  {
   "cell_type": "code",
   "execution_count": 2,
   "outputs": [
    {
     "name": "stdout",
     "output_type": "stream",
     "text": [
      "{'z': [tensor([[[-0.8611,  0.1509,  0.1954, -0.1998, -0.0693, -0.3300, -0.1151,\n",
      "           0.4470, -0.0036,  0.2544,  0.1300,  0.3184,  0.3081, -0.0575,\n",
      "           0.1970,  0.0145]]])], 'key': 'Anger', 'qpm': -0.0881854666908756}\n",
      "{'z': [tensor([[[ 0.3559,  0.0670, -0.0238,  0.4218, -0.0883, -0.1958, -0.0273,\n",
      "           0.1367, -0.0793,  0.0682,  0.1752,  0.2429,  0.0364, -0.3415,\n",
      "           0.2484, -0.1466]]])], 'key': 'Sad', 'qpm': -1.3659845383895572}\n"
     ]
    }
   ],
   "source": [
    "print(anger.to_dict())\n",
    "print(sad.to_dict())"
   ],
   "metadata": {
    "collapsed": false,
    "pycharm": {
     "name": "#%%\n"
    }
   }
  },
  {
   "cell_type": "code",
   "execution_count": 3,
   "outputs": [
    {
     "name": "stdout",
     "output_type": "stream",
     "text": [
      "{'z': [tensor([[[-0.5052,  0.2179,  0.1716,  0.2220, -0.1576, -0.5258, -0.1424,\n",
      "           0.5837, -0.0829,  0.3226,  0.3052,  0.5613,  0.3445, -0.3990,\n",
      "           0.4454, -0.1321]]])], 'key': '', 'qpm': -1.454170005080433}\n"
     ]
    }
   ],
   "source": [
    "sum = anger + sad\n",
    "print(sum.to_dict())"
   ],
   "metadata": {
    "collapsed": false,
    "pycharm": {
     "name": "#%% Addition\n"
    }
   }
  },
  {
   "cell_type": "code",
   "execution_count": 4,
   "outputs": [
    {
     "name": "stdout",
     "output_type": "stream",
     "text": [
      "{'z': [tensor([[[-1.2170,  0.0839,  0.2192, -0.6216,  0.0190, -0.1342, -0.0878,\n",
      "           0.3103,  0.0757,  0.1862, -0.0452,  0.0755,  0.2717,  0.2840,\n",
      "          -0.0514,  0.1611]]])], 'key': '', 'qpm': 1.2777990716986816}\n"
     ]
    }
   ],
   "source": [
    "diff = anger - sad\n",
    "print(diff.to_dict())"
   ],
   "metadata": {
    "collapsed": false,
    "pycharm": {
     "name": "#%% Subtraction\n"
    }
   }
  },
  {
   "cell_type": "code",
   "execution_count": 5,
   "outputs": [
    {
     "name": "stdout",
     "output_type": "stream",
     "text": [
      "{'z': [tensor([[[-0.2526,  0.1089,  0.0858,  0.1110, -0.0788, -0.2629, -0.0712,\n",
      "           0.2919, -0.0415,  0.1613,  0.1526,  0.2806,  0.1723, -0.1995,\n",
      "           0.2227, -0.0661]]])], 'key': '', 'qpm': -0.7270850025402165}\n"
     ]
    }
   ],
   "source": [
    "mix = sad.approach(anger, 0.5)\n",
    "print(mix.to_dict())"
   ],
   "metadata": {
    "collapsed": false,
    "pycharm": {
     "name": "#%% Approaching, 50%\n"
    }
   }
  },
  {
   "cell_type": "code",
   "execution_count": 6,
   "outputs": [
    {
     "name": "stdout",
     "output_type": "stream",
     "text": [
      "{'z': [tensor([[[-1.1045e+00,  1.6768e-01,  2.3924e-01, -3.2412e-01, -6.5500e-02,\n",
      "          -3.5684e-01, -1.3266e-01,  5.0906e-01,  1.1540e-02,  2.9164e-01,\n",
      "           1.2096e-01,  3.3350e-01,  3.6244e-01, -7.0000e-04,  1.8672e-01,\n",
      "           4.6720e-02]]])], 'key': '', 'qpm': 0.1673743476488605}\n"
     ]
    }
   ],
   "source": [
    "overcorrection = sad.approach(anger, 1.2)\n",
    "print(overcorrection.to_dict())\n"
   ],
   "metadata": {
    "collapsed": false,
    "pycharm": {
     "name": "#%% Approaching, 120%\n"
    }
   }
  }
 ],
 "metadata": {
  "kernelspec": {
   "display_name": "Python 3",
   "language": "python",
   "name": "python3"
  },
  "language_info": {
   "codemirror_mode": {
    "name": "ipython",
    "version": 2
   },
   "file_extension": ".py",
   "mimetype": "text/x-python",
   "name": "python",
   "nbconvert_exporter": "python",
   "pygments_lexer": "ipython2",
   "version": "2.7.6"
  }
 },
 "nbformat": 4,
 "nbformat_minor": 0
}