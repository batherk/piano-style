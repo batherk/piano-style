{
 "cells": [
  {
   "cell_type": "code",
   "execution_count": 1,
   "metadata": {
    "collapsed": true
   },
   "outputs": [
    {
     "name": "stdout",
     "output_type": "stream",
     "text": [
      "  style_name       qpm        l0        l1        l2        l3        l4  \\\n",
      "0      Anger -0.088185 -0.267492 -0.174572 -0.631057 -0.389810  0.339801   \n",
      "1      Relax -0.727945  0.175939  0.071255 -0.003770 -0.016816  0.024000   \n",
      "\n",
      "         l5        l6        l7       l8        l9       l10       l11  \\\n",
      "0  0.044334  0.184446 -0.235489  0.07752  0.299091  0.200366  0.043943   \n",
      "1 -0.220988 -0.080684  0.347593 -0.47852  0.218410  0.113805  0.383682   \n",
      "\n",
      "        l12       l13       l14       l15  \n",
      "0  0.065113  0.443459 -0.144211 -0.003903  \n",
      "1 -0.238352  0.178352  0.190123 -0.171828  \n"
     ]
    }
   ],
   "source": [
    "from utils.data_handling import load_styles_df\n",
    "\n",
    "styles_df = load_styles_df()\n",
    "\n",
    "print(styles_df)"
   ]
  }
 ],
 "metadata": {
  "kernelspec": {
   "display_name": "Python 3",
   "language": "python",
   "name": "python3"
  },
  "language_info": {
   "codemirror_mode": {
    "name": "ipython",
    "version": 2
   },
   "file_extension": ".py",
   "mimetype": "text/x-python",
   "name": "python",
   "nbconvert_exporter": "python",
   "pygments_lexer": "ipython2",
   "version": "2.7.6"
  }
 },
 "nbformat": 4,
 "nbformat_minor": 0
}