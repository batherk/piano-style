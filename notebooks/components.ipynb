{
 "cells": [
  {
   "cell_type": "code",
   "execution_count": 143,
   "metadata": {
    "collapsed": true
   },
   "outputs": [],
   "source": [
    "import numpy as np\n",
    "LATENT_DIM = 8\n",
    "COORD_SAMPLES = 30\n",
    "DIMENSION_VECTORS = 1\n",
    "np.random.seed(1)\n",
    "\n",
    "def scalar_projection(x,y):\n",
    "    return np.dot(x, y) / np.linalg.norm(y)\n",
    "\n",
    "def vector_projection(x,y):\n",
    "    return y * np.dot(x, y) * np.dot(y, y)\n",
    "\n",
    "test = np.random.normal(0,1,(COORD_SAMPLES, LATENT_DIM))\n",
    "dimension_vector_1 = np.random.normal(0,1,(DIMENSION_VECTORS, LATENT_DIM))"
   ]
  },
  {
   "cell_type": "code",
   "execution_count": 144,
   "outputs": [
    {
     "name": "stdout",
     "output_type": "stream",
     "text": [
      "[[-0.49821356 -0.31098498 -0.00189148 -1.39662042 -0.86131636  0.67471153\n",
      "   0.61853913 -0.44317193]]\n",
      "(1, 30, 8) (8, 1)\n"
     ]
    }
   ],
   "source": [
    "remove = np.array([[vector_projection(coord, vector) for coord in test] for vector in dimension_vector_1])\n",
    "removed = test - remove\n",
    "print(dimension_vector_1)\n",
    "print(removed.shape, dimension_vector_1.transpose().shape)"
   ],
   "metadata": {
    "collapsed": false,
    "pycharm": {
     "name": "#%%\n"
    }
   }
  },
  {
   "cell_type": "code",
   "execution_count": 145,
   "outputs": [
    {
     "name": "stdout",
     "output_type": "stream",
     "text": [
      "[[[ 9.10560604e-03]\n",
      "  [-3.08832252e+01]\n",
      "  [-1.23534843e+01]\n",
      "  [-1.08663547e+01]\n",
      "  [-1.88561946e+01]\n",
      "  [ 2.52981651e+01]\n",
      "  [-4.62252778e+00]\n",
      "  [-1.35354063e-03]\n",
      "  [ 4.50777248e+01]\n",
      "  [-2.39202929e+01]\n",
      "  [ 8.27979013e+00]\n",
      "  [ 4.26807980e+00]\n",
      "  [-2.94805823e+00]\n",
      "  [-8.38161921e+00]\n",
      "  [-8.74997757e+00]\n",
      "  [-6.13714329e+00]\n",
      "  [-2.60200440e+01]\n",
      "  [-2.52359415e+00]\n",
      "  [ 1.76737574e-01]\n",
      "  [ 3.96364966e+00]\n",
      "  [-7.35381567e+00]\n",
      "  [ 3.07078013e+01]\n",
      "  [-7.08011057e+00]\n",
      "  [-1.33270711e+00]\n",
      "  [-6.02737114e+00]\n",
      "  [ 2.66557953e+01]\n",
      "  [ 5.27812718e+00]\n",
      "  [ 3.82972876e+00]\n",
      "  [-5.02884533e+00]\n",
      "  [-2.88571447e-02]]]\n"
     ]
    }
   ],
   "source": [
    "print(scalar_projection(removed, dimension_vector_1.transpose()))\n"
   ],
   "metadata": {
    "collapsed": false,
    "pycharm": {
     "name": "#%%\n"
    }
   }
  }
 ],
 "metadata": {
  "kernelspec": {
   "display_name": "Python 3",
   "language": "python",
   "name": "python3"
  },
  "language_info": {
   "codemirror_mode": {
    "name": "ipython",
    "version": 2
   },
   "file_extension": ".py",
   "mimetype": "text/x-python",
   "name": "python",
   "nbconvert_exporter": "python",
   "pygments_lexer": "ipython2",
   "version": "2.7.6"
  }
 },
 "nbformat": 4,
 "nbformat_minor": 0
}