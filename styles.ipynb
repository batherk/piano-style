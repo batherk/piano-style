{
 "cells": [
  {
   "cell_type": "code",
   "execution_count": 6,
   "metadata": {
    "collapsed": true,
    "pycharm": {
     "name": "#%% Imports\n"
    }
   },
   "outputs": [],
   "source": [
    "from Style import Style, anger, sad"
   ]
  },
  {
   "cell_type": "code",
   "execution_count": 7,
   "outputs": [
    {
     "name": "stdout",
     "output_type": "stream",
     "text": [
      "{'z': [tensor([[[ 0.5749, -0.1427, -0.1627,  0.1102, -0.0582,  0.5274, -0.1459,\n",
      "           0.0134, -0.1858,  0.2948, -0.0082,  0.0314,  0.2051,  0.3028,\n",
      "           0.0732,  0.0530]]])], 'key': '', 'qpm': -0.0881854666908756}\n",
      "{'z': [tensor([[[-0.0133, -0.0521, -0.1571, -0.0232,  0.0296, -0.2825,  0.1783,\n",
      "           0.7856, -0.0367, -0.6838, -0.0488, -0.2774, -0.1716, -0.0218,\n",
      "           0.2626,  0.8341]]])], 'key': '', 'qpm': -1.3659845383895572}\n"
     ]
    }
   ],
   "source": [
    "print(anger.to_dict())\n",
    "print(sad.to_dict())"
   ],
   "metadata": {
    "collapsed": false,
    "pycharm": {
     "name": "#%%\n"
    }
   }
  },
  {
   "cell_type": "code",
   "execution_count": 8,
   "outputs": [
    {
     "name": "stdout",
     "output_type": "stream",
     "text": [
      "{'z': [tensor([[[ 0.5616, -0.1948, -0.3198,  0.0870, -0.0286,  0.2449,  0.0324,\n",
      "           0.7990, -0.2225, -0.3890, -0.0570, -0.2460,  0.0335,  0.2810,\n",
      "           0.3358,  0.8871]]])], 'key': '', 'qpm': -1.454170005080433}\n"
     ]
    }
   ],
   "source": [
    "sum = anger + sad\n",
    "print(sum.to_dict())"
   ],
   "metadata": {
    "collapsed": false,
    "pycharm": {
     "name": "#%% Addition\n"
    }
   }
  },
  {
   "cell_type": "code",
   "execution_count": 9,
   "outputs": [
    {
     "name": "stdout",
     "output_type": "stream",
     "text": [
      "{'z': [tensor([[[ 0.5882, -0.0906, -0.0056,  0.1334, -0.0878,  0.8099, -0.3242,\n",
      "          -0.7722, -0.1491,  0.9786,  0.0406,  0.3088,  0.3767,  0.3246,\n",
      "          -0.1894, -0.7811]]])], 'key': '', 'qpm': 1.2777990716986816}\n"
     ]
    }
   ],
   "source": [
    "diff = anger - sad\n",
    "print(diff.to_dict())"
   ],
   "metadata": {
    "collapsed": false,
    "pycharm": {
     "name": "#%% Subtraction\n"
    }
   }
  },
  {
   "cell_type": "code",
   "execution_count": 10,
   "outputs": [
    {
     "name": "stdout",
     "output_type": "stream",
     "text": [
      "{'z': [tensor([[[ 0.2808, -0.0974, -0.1599,  0.0435, -0.0143,  0.1225,  0.0162,\n",
      "           0.3995, -0.1112, -0.1945, -0.0285, -0.1230,  0.0168,  0.1405,\n",
      "           0.1679,  0.4435]]])], 'key': '', 'qpm': -0.7270850025402165}\n"
     ]
    }
   ],
   "source": [
    "mix = sad.approach(anger, 0.5)\n",
    "print(mix.to_dict())"
   ],
   "metadata": {
    "collapsed": false,
    "pycharm": {
     "name": "#%% Approaching, 50%\n"
    }
   }
  },
  {
   "cell_type": "code",
   "execution_count": 11,
   "outputs": [
    {
     "name": "stdout",
     "output_type": "stream",
     "text": [
      "{'z': [tensor([[[ 6.9254e-01, -1.6082e-01, -1.6382e-01,  1.3688e-01, -7.5760e-02,\n",
      "           6.8938e-01, -2.1074e-01, -1.4104e-01, -2.1562e-01,  4.9052e-01,\n",
      "          -8.0000e-05,  9.3160e-02,  2.8044e-01,  3.6772e-01,  3.5320e-02,\n",
      "          -1.0322e-01]]])], 'key': '', 'qpm': 0.1673743476488605}\n"
     ]
    }
   ],
   "source": [
    "overcorrection = sad.approach(anger, 1.2)\n",
    "print(overcorrection.to_dict())\n"
   ],
   "metadata": {
    "collapsed": false,
    "pycharm": {
     "name": "#%% Approaching, 120%\n"
    }
   }
  }
 ],
 "metadata": {
  "kernelspec": {
   "display_name": "Python 3",
   "language": "python",
   "name": "python3"
  },
  "language_info": {
   "codemirror_mode": {
    "name": "ipython",
    "version": 2
   },
   "file_extension": ".py",
   "mimetype": "text/x-python",
   "name": "python",
   "nbconvert_exporter": "python",
   "pygments_lexer": "ipython2",
   "version": "2.7.6"
  }
 },
 "nbformat": 4,
 "nbformat_minor": 0
}