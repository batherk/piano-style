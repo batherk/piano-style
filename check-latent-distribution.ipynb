{
 "cells": [
  {
   "cell_type": "code",
   "execution_count": 1,
   "metadata": {
    "collapsed": true,
    "pycharm": {
     "name": "#%% Imports\n"
    }
   },
   "outputs": [],
   "source": [
    "from virtuosoNet import functions as vif"
   ]
  },
  {
   "cell_type": "code",
   "execution_count": 2,
   "outputs": [],
   "source": [
    "MODEL_TYPE = \"isgn\"\n",
    "\n",
    "PATH = \"test_pieces/emotionNet/Bach_Prelude_1/\"\n",
    "PERFORMANCE_NAME = \"Anger_sub1\"\n",
    "COMPOSER_NAME = \"Bach\"\n",
    "DATA_FILE = \"training_data\""
   ],
   "metadata": {
    "collapsed": false,
    "pycharm": {
     "name": "#%% Settings\n"
    }
   }
  },
  {
   "cell_type": "code",
   "execution_count": 3,
   "outputs": [],
   "source": [
    "model = vif.load_model(MODEL_TYPE)"
   ],
   "metadata": {
    "collapsed": false,
    "pycharm": {
     "name": "#%% Load Model\n"
    }
   }
  },
  {
   "cell_type": "code",
   "execution_count": 4,
   "outputs": [],
   "source": [
    "means, stds, _, _, _, _, _ = vif.load_stat_file(DATA_FILE)"
   ],
   "metadata": {
    "collapsed": false,
    "pycharm": {
     "name": "#%% Load means and stds from data file\n"
    }
   }
  },
  {
   "cell_type": "code",
   "execution_count": 5,
   "outputs": [
    {
     "name": "stderr",
     "output_type": "stream",
     "text": [
      "/Users/batman/git/piano-style/venv/lib/python3.8/site-packages/pretty_midi/pretty_midi.py:97: RuntimeWarning: Tempo, Key or Time signature change events found on non-zero tracks.  This is not a valid type 0 or type 1 MIDI file.  Tempo, Key or Time Signature may be wrong.\n",
      "  warnings.warn(\n"
     ]
    },
    {
     "name": "stdout",
     "output_type": "stream",
     "text": [
      "performance name is Anger_sub1\n",
      "Number of non matched pairs: 0\n",
      "Number of mismatched notes:  0\n",
      "Number of Matched Notes: 549, unmatched notes: 0\n"
     ]
    },
    {
     "name": "stderr",
     "output_type": "stream",
     "text": [
      "/Users/batman/git/piano-style/venv/lib/python3.8/site-packages/torch/nn/functional.py:1794: UserWarning: nn.functional.tanh is deprecated. Use torch.tanh instead.\n",
      "  warnings.warn(\"nn.functional.tanh is deprecated. Use torch.tanh instead.\")\n"
     ]
    },
    {
     "name": "stdout",
     "output_type": "stream",
     "text": [
      "performance name is Anger_sub1\n",
      "Number of non matched pairs: 0\n",
      "Number of mismatched notes:  0\n",
      "Number of Matched Notes: 549, unmatched notes: 0\n",
      "performance name is Anger_sub1\n",
      "Number of non matched pairs: 0\n",
      "Number of mismatched notes:  0\n",
      "Number of Matched Notes: 549, unmatched notes: 0\n",
      "performance name is Anger_sub1\n",
      "Number of non matched pairs: 0\n",
      "Number of mismatched notes:  0\n",
      "Number of Matched Notes: 549, unmatched notes: 0\n",
      "performance name is Anger_sub1\n",
      "Number of non matched pairs: 0\n",
      "Number of mismatched notes:  0\n",
      "Number of Matched Notes: 549, unmatched notes: 0\n"
     ]
    }
   ],
   "source": [
    "from Style import Style\n",
    "\n",
    "styles = []\n",
    "for i in range(5):\n",
    "    z_vector, qpm_primo = vif.load_file_and_encode_style(\n",
    "        PATH, PERFORMANCE_NAME, COMPOSER_NAME, model, means, stds\n",
    "    )\n",
    "    styles.append(Style(qpm_primo, z_vector, name=f\"Anger_{i}\"))"
   ],
   "metadata": {
    "collapsed": false,
    "pycharm": {
     "name": "#%% Encode Song\n"
    }
   }
  },
  {
   "cell_type": "code",
   "execution_count": 6,
   "outputs": [],
   "source": [
    "import numpy as np\n",
    "latents = np.array([style.latent for style in styles])"
   ],
   "metadata": {
    "collapsed": false,
    "pycharm": {
     "name": "#%%\n"
    }
   }
  },
  {
   "cell_type": "code",
   "execution_count": 7,
   "outputs": [],
   "source": [
    "transposed = latents.transpose()"
   ],
   "metadata": {
    "collapsed": false,
    "pycharm": {
     "name": "#%%\n"
    }
   }
  },
  {
   "cell_type": "code",
   "execution_count": 8,
   "outputs": [],
   "source": [
    "means, stds = zip(*[(z_list.mean(),z_list.std()) for z_list in transposed])"
   ],
   "metadata": {
    "collapsed": false,
    "pycharm": {
     "name": "#%%\n"
    }
   }
  },
  {
   "cell_type": "code",
   "execution_count": 12,
   "outputs": [],
   "source": [
    "import matplotlib.pyplot as plt\n",
    "indexes = np.arange(len(means))\n",
    "fig, ax = plt.subplots()\n",
    "ax.set_xlabel('Latent index')\n",
    "ax.set_ylabel('Latent value')\n",
    "p1 = ax.bar(indexes, means, yerr=stds, label='Z-values')\n",
    "plt.savefig('./test_result/Latent_distribution_for_same_input')\n"
   ],
   "metadata": {
    "collapsed": false,
    "pycharm": {
     "name": "#%%\n"
    }
   }
  }
 ],
 "metadata": {
  "kernelspec": {
   "display_name": "Python 3",
   "language": "python",
   "name": "python3"
  },
  "language_info": {
   "codemirror_mode": {
    "name": "ipython",
    "version": 2
   },
   "file_extension": ".py",
   "mimetype": "text/x-python",
   "name": "python",
   "nbconvert_exporter": "python",
   "pygments_lexer": "ipython2",
   "version": "2.7.6"
  }
 },
 "nbformat": 4,
 "nbformat_minor": 0
}